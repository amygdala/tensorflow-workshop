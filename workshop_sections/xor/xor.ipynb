{
 "cells": [
  {
   "cell_type": "markdown",
   "metadata": {},
   "source": [
    "Copyright 2016 Google Inc. All Rights Reserved.\n",
    "Licensed under the Apache License, Version 2.0 (the \"License\");\n",
    "you may not use this file except in compliance with the License.\n",
    "You may obtain a copy of the License at\n",
    "\n",
    "     http://www.apache.org/licenses/LICENSE-2.0\n",
    "\n",
    "Unless required by applicable law or agreed to in writing, software\n",
    "distributed under the License is distributed on an \"AS IS\" BASIS,\n",
    "WITHOUT WARRANTIES OR CONDITIONS OF ANY KIND, either express or implied.\n",
    "See the License for the specific language governing permissions and\n",
    "limitations under the License."
   ]
  },
  {
   "cell_type": "markdown",
   "metadata": {},
   "source": [
    "This notebook builds a model graph to learn XOR, then trains the model.\n",
    "\n",
    "First, do some imports."
   ]
  },
  {
   "cell_type": "code",
   "execution_count": 1,
   "metadata": {
    "collapsed": true
   },
   "outputs": [],
   "source": [
    "import argparse\n",
    "import math\n",
    "\n",
    "import numpy as np\n",
    "\n",
    "import tensorflow as tf\n",
    "\n",
    "tf.logging.set_verbosity(tf.logging.INFO)"
   ]
  },
  {
   "cell_type": "markdown",
   "metadata": {},
   "source": [
    "Now, we'll define a function to build our model graph.\n",
    "Note the definition of the loss and training ops."
   ]
  },
  {
   "cell_type": "code",
   "execution_count": 2,
   "metadata": {
    "collapsed": true
   },
   "outputs": [],
   "source": [
    "\n",
    "def make_graph(features, labels, num_hidden=8):\n",
    "  hidden_weights = tf.Variable(tf.truncated_normal(\n",
    "      [2, num_hidden],\n",
    "      stddev=1/math.sqrt(2)\n",
    "  ))\n",
    "\n",
    "  # Shape [4, num_hidden]\n",
    "  hidden_activations = tf.nn.relu(tf.matmul(features, hidden_weights))\n",
    "\n",
    "  output_weights = tf.Variable(tf.truncated_normal(\n",
    "      [num_hidden, 1],\n",
    "      stddev=1/math.sqrt(num_hidden)\n",
    "  ))\n",
    "\n",
    "  # Shape [4, 1]\n",
    "  logits = tf.matmul(hidden_activations, output_weights)\n",
    "\n",
    "  # Shape [4]\n",
    "  predictions = tf.sigmoid(tf.squeeze(logits))\n",
    "  loss = tf.reduce_mean(tf.square(predictions - tf.to_float(labels)))\n",
    "\n",
    "  gs = tf.Variable(0, trainable=False)\n",
    "  train_op = tf.train.GradientDescentOptimizer(0.2).minimize(\n",
    "      loss, global_step=gs)\n",
    "\n",
    "  return train_op, loss, gs\n"
   ]
  },
  {
   "cell_type": "markdown",
   "metadata": {},
   "source": [
    "Build the graph -- define the placeholders, and call make_graph().\n",
    "Then add an op to init the variables."
   ]
  },
  {
   "cell_type": "code",
   "execution_count": 3,
   "metadata": {
    "collapsed": true
   },
   "outputs": [],
   "source": [
    "graph = tf.Graph()\n",
    "num_steps = 5000\n",
    "\n",
    "with graph.as_default():\n",
    "  features = tf.placeholder(tf.float32, shape=[4, 2])\n",
    "  labels = tf.placeholder(tf.int32, shape=[4])\n",
    "\n",
    "  train_op, loss, gs = make_graph(features, labels)\n",
    "  init = tf.global_variables_initializer()\n"
   ]
  },
  {
   "cell_type": "markdown",
   "metadata": {},
   "source": [
    "In a Session, run a training loop using a small input dataset.\n",
    "You'll see the final loss value output after a short pause."
   ]
  },
  {
   "cell_type": "code",
   "execution_count": 4,
   "metadata": {
    "collapsed": false
   },
   "outputs": [
    {
     "name": "stdout",
     "output_type": "stream",
     "text": [
      "INFO:tensorflow:Final loss is: 0.0627002418041\n"
     ]
    }
   ],
   "source": [
    "with tf.Session(graph=graph) as sess:\n",
    "  init.run()\n",
    "  step = 0\n",
    "  xy = np.array([\n",
    "      [True, False],\n",
    "      [True, True],\n",
    "      [False, False],\n",
    "      [False, True]\n",
    "  ], dtype=np.float)\n",
    "  y_ = np.array([True, False, False, True], dtype=np.int32)\n",
    "  while step < num_steps:\n",
    "\n",
    "    _, step, loss_value = sess.run(\n",
    "        [train_op, gs, loss],\n",
    "        feed_dict={features: xy, labels: y_}\n",
    "    )\n",
    "  tf.logging.info('Final loss is: {}'.format(loss_value))\n"
   ]
  }
 ],
 "metadata": {
 },
 "nbformat": 4,
 "nbformat_minor": 2
}
