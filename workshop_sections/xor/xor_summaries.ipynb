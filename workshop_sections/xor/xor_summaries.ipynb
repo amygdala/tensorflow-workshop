{
 "cells": [
  {
   "cell_type": "markdown",
   "metadata": {},
   "source": [
    "Copyright 2016 Google Inc. All Rights Reserved.\n",
    "Licensed under the Apache License, Version 2.0 (the \"License\");\n",
    "you may not use this file except in compliance with the License.\n",
    "You may obtain a copy of the License at\n",
    "\n",
    "     http://www.apache.org/licenses/LICENSE-2.0\n",
    "\n",
    "Unless required by applicable law or agreed to in writing, software\n",
    "distributed under the License is distributed on an \"AS IS\" BASIS,\n",
    "WITHOUT WARRANTIES OR CONDITIONS OF ANY KIND, either express or implied.\n",
    "See the License for the specific language governing permissions and\n",
    "limitations under the License."
   ]
  },
  {
   "cell_type": "markdown",
   "metadata": {},
   "source": [
    "This notebook builds a model graph to learn XOR, then trains the model. This version shows how to write summary information, that you can view in Tensorboard.\n",
    "\n",
    "First, do some imports."
   ]
  },
  {
   "cell_type": "code",
   "execution_count": null,
   "metadata": {
    "collapsed": true
   },
   "outputs": [],
   "source": [
    "import argparse\n",
    "import math\n",
    "\n",
    "import numpy as np\n",
    "\n",
    "import tensorflow as tf\n",
    "\n",
    "tf.logging.set_verbosity(tf.logging.INFO)\n"
   ]
  },
  {
   "cell_type": "markdown",
   "metadata": {},
   "source": [
    "Now, we'll define a function to build our model graph.\n",
    "Note the definition of the loss and training ops.\n",
    "\n",
    "Note also all the tf.summary information that is being defined."
   ]
  },
  {
   "cell_type": "code",
   "execution_count": null,
   "metadata": {
    "collapsed": true
   },
   "outputs": [],
   "source": [
    "def make_graph(features, labels, num_hidden=8):\n",
    "  hidden_weights = tf.Variable(tf.truncated_normal(\n",
    "      [2, num_hidden],\n",
    "      stddev=1/math.sqrt(2)\n",
    "  ))\n",
    "  tf.summary.image('hidden_weights', tf.expand_dims([hidden_weights], -1))\n",
    "\n",
    "  # Shape [4, num_hidden]\n",
    "  hidden_activations = tf.nn.relu(tf.matmul(features, hidden_weights))\n",
    "\n",
    "  output_weights = tf.Variable(tf.truncated_normal(\n",
    "      [num_hidden, 1],\n",
    "      stddev=1/math.sqrt(num_hidden)\n",
    "  ))\n",
    "\n",
    "  # Shape [4, 1]\n",
    "  logits = tf.matmul(hidden_activations, output_weights)\n",
    "\n",
    "  # Shape [4]\n",
    "  predictions = tf.sigmoid(tf.squeeze(logits))\n",
    "  loss = tf.reduce_mean(tf.square(predictions - tf.to_float(labels)))\n",
    "  tf.summary.scalar('loss', loss)\n",
    "\n",
    "  accuracy, update_acc = tf.contrib.metrics.streaming_accuracy(\n",
    "      predictions > 0.5, labels)\n",
    "  tf.summary.scalar('accuracy', accuracy)\n",
    "\n",
    "  gs = tf.Variable(0, trainable=False)\n",
    "  optimizer = tf.train.GradientDescentOptimizer(0.2)\n",
    "\n",
    "  grads_and_vars = optimizer.compute_gradients(loss)\n",
    "\n",
    "  gradients = zip(grads_and_vars)[0]\n",
    "  tf.summary.histogram('gradients', gradients)\n",
    "\n",
    "  train_op = optimizer.apply_gradients(grads_and_vars, global_step=gs)\n",
    "\n",
    "  return train_op, loss, gs, update_acc\n"
   ]
  },
  {
   "cell_type": "markdown",
   "metadata": {},
   "source": [
    "Build the graph -- define the placeholders, and call `make_graph()`.\n",
    "Then add an op to init the variables.\n",
    "Note also the tf.summary.merge_all() call to create a `summary_op`."
   ]
  },
  {
   "cell_type": "code",
   "execution_count": null,
   "metadata": {
    "collapsed": true
   },
   "outputs": [],
   "source": [
    "summaries_every = 10\n",
    "num_steps = 5000\n",
    "output_dir = '/tmp/xor/output'\n",
    "\n",
    "graph = tf.Graph()\n",
    "\n",
    "with graph.as_default():\n",
    "  features = tf.placeholder(tf.float32, shape=[4, 2])\n",
    "  labels = tf.placeholder(tf.int32, shape=[4])\n",
    "\n",
    "  train_op, loss, gs, update_acc = make_graph(features, labels)\n",
    "  init = tf.global_variables_initializer()\n",
    "  init_local = tf.local_variables_initializer()\n",
    "  summary_op = tf.summary.merge_all()\n"
   ]
  },
  {
   "cell_type": "markdown",
   "metadata": {},
   "source": [
    "In a Session, run a training loop using a small input dataset.\n",
    "You can adjust the frequency of summary-writing if you like."
   ]
  },
  {
   "cell_type": "code",
   "execution_count": null,
   "metadata": {
    "collapsed": false
   },
   "outputs": [],
   "source": [
    "writer = tf.summary.FileWriter(output_dir, graph=graph, flush_secs=1)\n",
    "\n",
    "with tf.Session(graph=graph) as sess:\n",
    "  init.run()\n",
    "  init_local.run()\n",
    "  step = 0\n",
    "  xy = np.array([\n",
    "      [True, False],\n",
    "      [True, True],\n",
    "      [False, False],\n",
    "      [False, True]\n",
    "  ], dtype=np.float)\n",
    "  y_ = np.array([True, False, False, True], dtype=np.int32)\n",
    "  while step < num_steps:\n",
    "\n",
    "    _, _, step, loss_value, summaries = sess.run(\n",
    "        [train_op, update_acc, gs, loss, summary_op],\n",
    "        feed_dict={features: xy, labels: y_}\n",
    "    )\n",
    "    if step % summaries_every == 0:\n",
    "      writer.add_summary(summaries, global_step=step)\n",
    "      tf.logging.info('Wrote summaries at step {}'.format(step))"
   ]
  },
  {
   "cell_type": "markdown",
   "metadata": {},
   "source": [
    "To see the results, take a look at the summary information in Tensorboard while the training is running, or after it has finished. Run the following in a shell window, pointing the logdir arg to the output directory.\n",
    "\n",
    "$ tensorboard --logdir=/tmp/xor/output"
   ]
  }
 ],
 "metadata": {
 },
 "nbformat": 4,
 "nbformat_minor": 2
}
