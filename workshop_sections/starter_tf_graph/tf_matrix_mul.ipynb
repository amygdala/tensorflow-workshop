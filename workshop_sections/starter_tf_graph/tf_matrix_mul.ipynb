{
 "cells": [
  {
   "cell_type": "markdown",
   "metadata": {},
   "source": [
    "Copyright 2016 Google Inc. All Rights Reserved.\n",
    "\n",
    "Licensed under the Apache License, Version 2.0 (the \"License\");\n",
    "you may not use this file except in compliance with the License.\n",
    "You may obtain a copy of the License at\n",
    "\n",
    "    http://www.apache.org/licenses/LICENSE-2.0\n",
    "Unless required by applicable law or agreed to in writing, software\n",
    "distributed under the License is distributed on an \"AS IS\" BASIS,\n",
    "WITHOUT WARRANTIES OR CONDITIONS OF ANY KIND, either express or implied.\n",
    "See the License for the specific language governing permissions and\n",
    "limitations under the License.\n"
   ]
  },
  {
   "cell_type": "markdown",
   "metadata": {},
   "source": [
    "A jupyter notebook version of the simple 'starter' example.\n",
    "First, define a constant, and define the TensorFlow graph."
   ]
  },
  {
   "cell_type": "code",
   "execution_count": null,
   "metadata": {
    "collapsed": false
   },
   "outputs": [],
   "source": [
    "import numpy as np\n",
    "\n",
    "import tensorflow as tf\n",
    "\n",
    "\n",
    "m1 = np.array([[1., 2.], [3., 4.], [5., 6.], [7., 8.]], dtype=np.float32)\n",
    "\n",
    "# Input data.\n",
    "m1_input = tf.placeholder(tf.float32, shape=[4, 2])\n",
    "\n",
    "m2 = tf.Variable(tf.random_uniform([2, 3], -1.0, 1.0))\n",
    "\n",
    "m3 = tf.matmul(m1_input, m2)\n",
    "\n",
    "# This is an identity op with the side effect of printing data when\n",
    "# evaluating.\n",
    "m3 = tf.Print(m3, [m3], message=\"m3 is: \")\n",
    "\n",
    "# Add variable initializer.\n",
    "init = tf.global_variables_initializer()\n"
   ]
  },
  {
   "cell_type": "markdown",
   "metadata": {},
   "source": [
    "Then, run the graph in a `session`, specifying a value for the `m1_input` placeholder."
   ]
  },
  {
   "cell_type": "code",
   "execution_count": null,
   "metadata": {
    "collapsed": false
   },
   "outputs": [],
   "source": [
    "with tf.Session() as session:\n",
    "    # We must initialize all variables before we use them.\n",
    "    init.run()\n",
    "    print(\"Initialized\")\n",
    "\n",
    "    print(\"m2: {}\".format(m2))\n",
    "    print(\"eval m2: {}\".format(m2.eval()))\n",
    "\n",
    "    feed_dict = {m1_input: m1}\n",
    "\n",
    "    result = session.run([m3], feed_dict=feed_dict)\n",
    "    print(\"\\nresult: {}\\n\".format(result))\n"
   ]
  }
 ],
 "metadata": {

 },
 "nbformat": 4,
 "nbformat_minor": 1
}
