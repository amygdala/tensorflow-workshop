{
 "cells": [
  {
   "cell_type": "markdown",
   "metadata": {},
   "source": [
    "# Easy distributed training with TensorFlow using train_and_evaluate()\n",
    "\n",
    "This notebook has moved [here](../tf_train_and_evaluate)."
   ]
  },
  {
   "cell_type": "markdown",
   "metadata": {
    "collapsed": true
   },
   "source": [
    "-----------------------------------\n",
    "\n",
    "Copyright 2018 Google Inc. All Rights Reserved. Licensed under the Apache\n",
    "License, Version 2.0 (the \"License\"); you may not use this file except in\n",
    "compliance with the License. You may obtain a copy of the License at  \n",
    "http://www.apache.org/licenses/LICENSE-2.0\n",
    "\n",
    "Unless required by applicable law or agreed to in writing, software\n",
    "distributed under the License is distributed on an \"AS IS\" BASIS, WITHOUT\n",
    "WARRANTIES OR CONDITIONS OF ANY KIND, either express or implied. See the\n",
    "License for the specific language governing permissions and limitations under\n",
    "the License."
   ]
  }
 ],
 "metadata": {
 },
 "nbformat": 4,
 "nbformat_minor": 2
}
