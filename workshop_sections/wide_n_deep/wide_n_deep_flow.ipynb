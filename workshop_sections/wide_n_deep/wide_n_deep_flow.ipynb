{
 "cells": [
  {
   "cell_type": "markdown",
   "metadata": {},
   "source": [
    "# Wide and Deep on TensorFlow (notebook style)"
   ]
  },
  {
   "cell_type": "markdown",
   "metadata": {},
   "source": [
    "Copyright 2016 Google Inc. All Rights Reserved. Licensed under the Apache License, Version 2.0 (the \"License\"); you may not use this file except in compliance with the License. You may obtain a copy of the License at\n",
    " http://www.apache.org/licenses/LICENSE-2.0\n",
    "\n",
    "Unless required by applicable law or agreed to in writing, software distributed under the License is distributed on an \"AS IS\" BASIS, WITHOUT WARRANTIES OR CONDITIONS OF ANY KIND, either express or implied. See the License for the specific language governing permissions and limitations under the License."
   ]
  },
  {
   "cell_type": "markdown",
   "metadata": {},
   "source": [
    "# Imports and constants\n",
    "First we'll import our libraries and set up some strings for column names. We also print out the version of TensorFlow we are running."
   ]
  },
  {
   "cell_type": "code",
   "execution_count": 10,
   "metadata": {
    "collapsed": false
   },
   "outputs": [
    {
     "name": "stdout",
     "output_type": "stream",
     "text": [
      "TensorFlow version 0.12.1\n",
      "model directory = models/model_1484225310\n"
     ]
    }
   ],
   "source": [
    "from __future__ import absolute_import\n",
    "from __future__ import division\n",
    "from __future__ import print_function\n",
    "\n",
    "import time\n",
    "\n",
    "import tensorflow as tf\n",
    "\n",
    "tf.logging.set_verbosity(tf.logging.ERROR)\n",
    "\n",
    "print(\"TensorFlow version %s\" % (tf.__version__))\n",
    "\n",
    "CATEGORICAL_COLUMNS = [\"workclass\", \"education\", \"marital_status\", \"occupation\", \n",
    "                       \"relationship\", \"race\", \"gender\", \"native_country\"]\n",
    "\n",
    "COLUMNS = [\"age\", \"workclass\", \"fnlwgt\", \"education\", \"education_num\", \"marital_status\",\n",
    "  \"occupation\", \"relationship\", \"race\", \"gender\", \"capital_gain\", \"capital_loss\",\n",
    "  \"hours_per_week\", \"native_country\", \"income_bracket\"]\n",
    "\n",
    "train_file = \"gs://tf-ml-workshop/widendeep/adult.data\"\n",
    "test_file = \"gs://tf-ml-workshop/widendeep/adult.test\"\n",
    "train_steps = 1000\n",
    "\n",
    "\n",
    "model_dir = 'models/model_' + str(int(time.time()))\n",
    "print(\"model directory = %s\" % model_dir)"
   ]
  },
  {
   "cell_type": "markdown",
   "metadata": {},
   "source": [
    "# Input file parsing\n",
    "This section puts the file into a Reader which reads from the file one batch at a time.\n",
    "\n",
    "We set up the Tensors to be a dictionary of features mapping from their string name to the tensor value.\n",
    "\n",
    "Note that the function is wrapped, enabling it to be used for different files."
   ]
  },
  {
   "cell_type": "code",
   "execution_count": 2,
   "metadata": {
    "collapsed": true
   },
   "outputs": [],
   "source": [
    "def generate_input_fn(filename):\n",
    "  def _input_fn():\n",
    "    BATCH_SIZE = 40\n",
    "    filename_queue = tf.train.string_input_producer([filename])\n",
    "    reader = tf.TextLineReader()\n",
    "    key, value = reader.read_up_to(filename_queue, num_records=BATCH_SIZE)\n",
    "\n",
    "    record_defaults = [[0], [\" \"], [0], [\" \"], [0],\n",
    "                       [\" \"], [\" \"], [\" \"], [\" \"], [\" \"],\n",
    "                       [0], [0], [0], [\" \"], [\" \"]]\n",
    "    columns = tf.decode_csv(\n",
    "      value, record_defaults=record_defaults)\n",
    "\n",
    "    features, income_bracket = dict(zip(COLUMNS, columns[:-1])), columns[-1]\n",
    "\n",
    "    # remove the fnlwgt key, which is not used\n",
    "    features.pop('fnlwgt', 'fnlwgt key not found')\n",
    "\n",
    "    # works in 0.12 only\n",
    "    for feature_name in CATEGORICAL_COLUMNS:\n",
    "      features[feature_name] = tf.expand_dims(features[feature_name], -1)\n",
    "\n",
    "    income_int = tf.to_int32(tf.equal(income_bracket, \" >50K\"))\n",
    "\n",
    "    return features, income_int\n",
    "\n",
    "  return _input_fn\n"
   ]
  },
  {
   "cell_type": "markdown",
   "metadata": {},
   "source": [
    "# Create Feature Columns\n",
    "This section configures the model with the information about the model. There are many parameters here to experiment with to see how they affect the accuracy."
   ]
  },
  {
   "cell_type": "markdown",
   "metadata": {},
   "source": [
    "### Sparse Columns\n",
    "First we build the sparse columns. \n",
    "Use `sparse_column_with_keys()` for columns that we know all possible values for.\n",
    "Use `sparse_column_with_hash_bucket()` for columns that we want the the library to automatically map values for us."
   ]
  },
  {
   "cell_type": "code",
   "execution_count": 5,
   "metadata": {
    "collapsed": true
   },
   "outputs": [],
   "source": [
    "# Sparse base columns.\n",
    "gender = tf.contrib.layers.sparse_column_with_keys(column_name=\"gender\",\n",
    "                                                 keys=[\"female\", \"male\"])\n",
    "race = tf.contrib.layers.sparse_column_with_keys(column_name=\"race\",\n",
    "                                               keys=[\"Amer-Indian-Eskimo\",\n",
    "                                                     \"Asian-Pac-Islander\",\n",
    "                                                     \"Black\", \"Other\",\n",
    "                                                     \"White\"])\n",
    "\n",
    "education = tf.contrib.layers.sparse_column_with_hash_bucket(\n",
    "  \"education\", hash_bucket_size=1000)\n",
    "marital_status = tf.contrib.layers.sparse_column_with_hash_bucket(\n",
    "  \"marital_status\", hash_bucket_size=100)\n",
    "relationship = tf.contrib.layers.sparse_column_with_hash_bucket(\n",
    "  \"relationship\", hash_bucket_size=100)\n",
    "workclass = tf.contrib.layers.sparse_column_with_hash_bucket(\n",
    "  \"workclass\", hash_bucket_size=100)\n",
    "occupation = tf.contrib.layers.sparse_column_with_hash_bucket(\n",
    "  \"occupation\", hash_bucket_size=1000)\n",
    "native_country = tf.contrib.layers.sparse_column_with_hash_bucket(\n",
    "  \"native_country\", hash_bucket_size=1000)"
   ]
  },
  {
   "cell_type": "markdown",
   "metadata": {},
   "source": [
    "### Continuous columns\n",
    "Second, configure the real-valued columns."
   ]
  },
  {
   "cell_type": "code",
   "execution_count": 6,
   "metadata": {
    "collapsed": true
   },
   "outputs": [],
   "source": [
    "# Continuous base columns.\n",
    "age = tf.contrib.layers.real_valued_column(\"age\")\n",
    "education_num = tf.contrib.layers.real_valued_column(\"education_num\")\n",
    "capital_gain = tf.contrib.layers.real_valued_column(\"capital_gain\")\n",
    "capital_loss = tf.contrib.layers.real_valued_column(\"capital_loss\")\n",
    "hours_per_week = tf.contrib.layers.real_valued_column(\"hours_per_week\")"
   ]
  },
  {
   "cell_type": "markdown",
   "metadata": {},
   "source": [
    "### Transformations\n",
    "We do a few combined features (feature crosses) here. You can add your own to improve on the model!"
   ]
  },
  {
   "cell_type": "code",
   "execution_count": 7,
   "metadata": {
    "collapsed": true
   },
   "outputs": [],
   "source": [
    "# Transformations.\n",
    "age_buckets = tf.contrib.layers.bucketized_column(age,\n",
    "            boundaries=[ 18, 25, 30, 35, 40, 45, 50, 55, 60, 65 ])\n",
    "education_occupation = tf.contrib.layers.crossed_column([education, occupation], hash_bucket_size=int(1e4))\n",
    "age_race_occupation = tf.contrib.layers.crossed_column( [age_buckets, race, occupation], hash_bucket_size=int(1e6))\n",
    "country_occupation = tf.contrib.layers.crossed_column([native_country, occupation], hash_bucket_size=int(1e4))"
   ]
  },
  {
   "cell_type": "markdown",
   "metadata": {},
   "source": [
    "### Combine feature columns into 2 objects"
   ]
  },
  {
   "cell_type": "code",
   "execution_count": 8,
   "metadata": {
    "collapsed": true
   },
   "outputs": [],
   "source": [
    "# Wide columns and deep columns.\n",
    "wide_columns = [gender, native_country,\n",
    "      education, occupation, workclass,\n",
    "      marital_status, relationship,\n",
    "      age_buckets, education_occupation,\n",
    "      age_race_occupation, country_occupation]\n",
    "\n",
    "deep_columns = [\n",
    "  tf.contrib.layers.embedding_column(workclass, dimension=8),\n",
    "  tf.contrib.layers.embedding_column(education, dimension=8),\n",
    "  tf.contrib.layers.embedding_column(marital_status, dimension=8),\n",
    "  tf.contrib.layers.embedding_column(gender, dimension=8),\n",
    "  tf.contrib.layers.embedding_column(relationship, dimension=8),\n",
    "  tf.contrib.layers.embedding_column(race, dimension=8),\n",
    "  tf.contrib.layers.embedding_column(native_country, dimension=8),\n",
    "  tf.contrib.layers.embedding_column(occupation, dimension=8),\n",
    "  age,\n",
    "  education_num,\n",
    "  capital_gain,\n",
    "  capital_loss,\n",
    "  hours_per_week,\n",
    "]"
   ]
  },
  {
   "cell_type": "markdown",
   "metadata": {},
   "source": [
    "# Create the model, and fit it"
   ]
  },
  {
   "cell_type": "code",
   "execution_count": 11,
   "metadata": {
    "collapsed": false
   },
   "outputs": [
    {
     "name": "stdout",
     "output_type": "stream",
     "text": [
      "estimator built\n",
      "fit done\n"
     ]
    }
   ],
   "source": [
    "# LinearClassifier\n",
    "# m = tf.contrib.learn.LinearClassifier(model_dir=model_dir, feature_columns=wide_columns)\n",
    "\n",
    "# Deep Neural Net Classifier\n",
    "#  m = tf.contrib.learn.DNNClassifier(\n",
    "#         model_dir=model_dir,\n",
    "#         feature_columns=deep_columns,\n",
    "#         hidden_units=[100, 50])\n",
    "\n",
    "# Combined Linear and Deep Classifier\n",
    "m = tf.contrib.learn.DNNLinearCombinedClassifier(\n",
    "     model_dir=model_dir,\n",
    "     linear_feature_columns=wide_columns,\n",
    "     dnn_feature_columns=deep_columns,\n",
    "     dnn_hidden_units=[100, 70, 50, 25])\n",
    "print('estimator built')\n",
    "\n",
    "m.fit(input_fn=generate_input_fn(train_file), steps=train_steps)\n",
    "print('fit done')\n"
   ]
  },
  {
   "cell_type": "markdown",
   "metadata": {},
   "source": [
    "# Evaluate the accuracy of the model"
   ]
  },
  {
   "cell_type": "code",
   "execution_count": 13,
   "metadata": {
    "collapsed": false
   },
   "outputs": [
    {
     "name": "stdout",
     "output_type": "stream",
     "text": [
      "evaluate done\n",
      "Accuracy: 0.75\n"
     ]
    }
   ],
   "source": [
    "results = m.evaluate(input_fn=generate_input_fn(test_file), steps=1)\n",
    "print('evaluate done')\n",
    "\n",
    "print('Accuracy: %s' % results['accuracy'])\n"
   ]
  }
 ],
 "metadata": {},
 "nbformat": 4,
 "nbformat_minor": 2
}
