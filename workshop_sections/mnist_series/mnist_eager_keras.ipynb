{
  "nbformat": 4,
  "nbformat_minor": 0,
  "metadata": {
    "colab": {
      "name": "Copy of keras-training-loop-2.ipynb",
      "version": "0.3.2",
      "views": {},
      "default_view": {},
      "provenance": [
        {
          "file_id": "13-iSSdz9Pq1UosTp6YR4DqaNAr1UZdea",
          "timestamp": 1524073445985
        }
      ],
      "collapsed_sections": []
    },
    "kernelspec": {
      "name": "python3",
      "display_name": "Python 3"
    },
    "accelerator": "GPU"
  },
  "cells": [
    {
      "metadata": {
        "id": "_fJVseIca5iy",
        "colab_type": "code",
        "colab": {
          "autoexec": {
            "startup": false,
            "wait_interval": 0
          }
        }
      },
      "cell_type": "code",
      "source": [
        "# !pip install -U tf-nightly"
      ],
      "execution_count": 0,
      "outputs": []
    },
    {
      "metadata": {
        "id": "fPGSHp30zBDI",
        "colab_type": "code",
        "colab": {
          "autoexec": {
            "startup": false,
            "wait_interval": 0
          },
          "base_uri": "https://localhost:8080/",
          "height": 343
        },
        "outputId": "76c777d1-0a7e-4d3a-9b8b-e5182f47df2a",
        "executionInfo": {
          "status": "ok",
          "timestamp": 1524268677200,
          "user_tz": 420,
          "elapsed": 3482,
          "user": {
            "displayName": "Amy Unruh",
            "photoUrl": "//lh5.googleusercontent.com/-g6alynuJerk/AAAAAAAAAAI/AAAAAAAAEQw/57BL9vMdS30/s50-c-k-no/photo.jpg",
            "userId": "100978872515629229948"
          }
        }
      },
      "cell_type": "code",
      "source": [
        "!pip install --upgrade tensorflow"
      ],
      "execution_count": 1,
      "outputs": [
        {
          "output_type": "stream",
          "text": [
            "Requirement already up-to-date: tensorflow in /usr/local/lib/python3.6/dist-packages\r\n",
            "Requirement already up-to-date: six>=1.10.0 in /usr/local/lib/python3.6/dist-packages (from tensorflow)\n",
            "Requirement already up-to-date: numpy>=1.13.3 in /usr/local/lib/python3.6/dist-packages (from tensorflow)\n",
            "Requirement already up-to-date: gast>=0.2.0 in /usr/local/lib/python3.6/dist-packages (from tensorflow)\n",
            "Requirement already up-to-date: tensorboard<1.8.0,>=1.7.0 in /usr/local/lib/python3.6/dist-packages (from tensorflow)\n",
            "Requirement already up-to-date: grpcio>=1.8.6 in /usr/local/lib/python3.6/dist-packages (from tensorflow)\n",
            "Requirement already up-to-date: protobuf>=3.4.0 in /usr/local/lib/python3.6/dist-packages (from tensorflow)\n",
            "Requirement already up-to-date: termcolor>=1.1.0 in /usr/local/lib/python3.6/dist-packages (from tensorflow)\n",
            "Requirement already up-to-date: astor>=0.6.0 in /usr/local/lib/python3.6/dist-packages (from tensorflow)\n",
            "Requirement already up-to-date: absl-py>=0.1.6 in /usr/local/lib/python3.6/dist-packages (from tensorflow)\n",
            "Requirement already up-to-date: wheel>=0.26 in /usr/local/lib/python3.6/dist-packages (from tensorflow)\n",
            "Requirement already up-to-date: werkzeug>=0.11.10 in /usr/local/lib/python3.6/dist-packages (from tensorboard<1.8.0,>=1.7.0->tensorflow)\n",
            "Requirement already up-to-date: bleach==1.5.0 in /usr/local/lib/python3.6/dist-packages (from tensorboard<1.8.0,>=1.7.0->tensorflow)\n",
            "Requirement already up-to-date: markdown>=2.6.8 in /usr/local/lib/python3.6/dist-packages (from tensorboard<1.8.0,>=1.7.0->tensorflow)\n",
            "Requirement already up-to-date: html5lib==0.9999999 in /usr/local/lib/python3.6/dist-packages (from tensorboard<1.8.0,>=1.7.0->tensorflow)\n",
            "Requirement already up-to-date: setuptools in /usr/local/lib/python3.6/dist-packages (from protobuf>=3.4.0->tensorflow)\n",
            "\u001b[33mYou are using pip version 9.0.3, however version 10.0.1 is available.\n",
            "You should consider upgrading via the 'pip install --upgrade pip' command.\u001b[0m\n"
          ],
          "name": "stdout"
        }
      ]
    },
    {
      "metadata": {
        "id": "WZfwoVGAa9jd",
        "colab_type": "code",
        "colab": {
          "autoexec": {
            "startup": false,
            "wait_interval": 0
          },
          "base_uri": "https://localhost:8080/",
          "height": 34
        },
        "outputId": "cb516ba7-baa3-41c8-e01a-91f58e23bee6",
        "executionInfo": {
          "status": "ok",
          "timestamp": 1524268680594,
          "user_tz": 420,
          "elapsed": 1217,
          "user": {
            "displayName": "Amy Unruh",
            "photoUrl": "//lh5.googleusercontent.com/-g6alynuJerk/AAAAAAAAAAI/AAAAAAAAEQw/57BL9vMdS30/s50-c-k-no/photo.jpg",
            "userId": "100978872515629229948"
          }
        }
      },
      "cell_type": "code",
      "source": [
        "import tensorflow as tf\n",
        "# The TF version should be >= 1.7\n",
        "print(tf.__version__)"
      ],
      "execution_count": 2,
      "outputs": [
        {
          "output_type": "stream",
          "text": [
            "1.7.0\n"
          ],
          "name": "stdout"
        }
      ]
    },
    {
      "metadata": {
        "id": "zX-y0FVXrd_l",
        "colab_type": "code",
        "colab": {
          "autoexec": {
            "startup": false,
            "wait_interval": 0
          }
        }
      },
      "cell_type": "code",
      "source": [
        "from tensorflow import keras\n",
        "\n",
        "from tensorflow.python.keras.layers import Dense, Dropout, Activation, Flatten\n",
        "from tensorflow.python.keras.layers import Convolution2D, MaxPooling2D\n",
        "from tensorflow.python.keras import backend as K\n"
      ],
      "execution_count": 0,
      "outputs": []
    },
    {
      "metadata": {
        "id": "xU-Wf-vVa-t8",
        "colab_type": "code",
        "colab": {
          "autoexec": {
            "startup": false,
            "wait_interval": 0
          }
        }
      },
      "cell_type": "code",
      "source": [
        "import tensorflow.contrib.eager as tfe\n",
        "tfe.enable_eager_execution()"
      ],
      "execution_count": 0,
      "outputs": []
    },
    {
      "metadata": {
        "id": "54FtfeNQa0_n",
        "colab_type": "code",
        "colab": {
          "autoexec": {
            "startup": false,
            "wait_interval": 0
          },
          "base_uri": "https://localhost:8080/",
          "height": 68
        },
        "outputId": "0ef457e2-b3aa-4a45-c684-2b204cfa3abf",
        "executionInfo": {
          "status": "ok",
          "timestamp": 1524268697989,
          "user_tz": 420,
          "elapsed": 2142,
          "user": {
            "displayName": "Amy Unruh",
            "photoUrl": "//lh5.googleusercontent.com/-g6alynuJerk/AAAAAAAAAAI/AAAAAAAAEQw/57BL9vMdS30/s50-c-k-no/photo.jpg",
            "userId": "100978872515629229948"
          }
        }
      },
      "cell_type": "code",
      "source": [
        "from keras.datasets import fashion_mnist\n",
        "\n",
        "(x_train, y_train), (x_test, y_test) = fashion_mnist.load_data()\n",
        "\n",
        "y_train = tf.cast(y_train, tf.int32)\n",
        "y_test = tf.cast(y_test, tf.int32)\n",
        "\n",
        "x_train = x_train.reshape(60000, 784)\n",
        "x_test = x_test.reshape(10000, 784)\n",
        "x_train = x_train.astype('float32')\n",
        "x_test = x_test.astype('float32')\n",
        "x_train /= 255\n",
        "x_test /= 255\n",
        "print(x_train.shape[0], 'train samples')\n",
        "print(x_test.shape[0], 'test samples')"
      ],
      "execution_count": 5,
      "outputs": [
        {
          "output_type": "stream",
          "text": [
            "Using TensorFlow backend.\n"
          ],
          "name": "stderr"
        },
        {
          "output_type": "stream",
          "text": [
            "60000 train samples\n",
            "10000 test samples\n"
          ],
          "name": "stdout"
        }
      ]
    },
    {
      "metadata": {
        "id": "BNe8xG1Pr0P1",
        "colab_type": "code",
        "colab": {
          "autoexec": {
            "startup": false,
            "wait_interval": 0
          },
          "base_uri": "https://localhost:8080/",
          "height": 306
        },
        "outputId": "54b4a975-1d09-4600-de63-8c8a8fff1fb5",
        "executionInfo": {
          "status": "ok",
          "timestamp": 1524268710532,
          "user_tz": 420,
          "elapsed": 416,
          "user": {
            "displayName": "Amy Unruh",
            "photoUrl": "//lh5.googleusercontent.com/-g6alynuJerk/AAAAAAAAAAI/AAAAAAAAEQw/57BL9vMdS30/s50-c-k-no/photo.jpg",
            "userId": "100978872515629229948"
          }
        }
      },
      "cell_type": "code",
      "source": [
        "num_classes = 10\n",
        "\n",
        "model = tf.keras.Sequential()\n",
        "model.add(Dense(512, activation='relu', input_shape=(784,)))\n",
        "model.add(Dropout(0.2))\n",
        "model.add(Dense(512, activation='relu'))\n",
        "model.add(Dropout(0.2))\n",
        "model.add(Dense(num_classes))\n",
        "\n",
        "model.summary()\n"
      ],
      "execution_count": 6,
      "outputs": [
        {
          "output_type": "stream",
          "text": [
            "_________________________________________________________________\n",
            "Layer (type)                 Output Shape              Param #   \n",
            "=================================================================\n",
            "dense_1 (Dense)              ?                         401920    \n",
            "_________________________________________________________________\n",
            "dropout_1 (Dropout)          ?                         0         \n",
            "_________________________________________________________________\n",
            "dense_2 (Dense)              ?                         262656    \n",
            "_________________________________________________________________\n",
            "dropout_2 (Dropout)          ?                         0         \n",
            "_________________________________________________________________\n",
            "dense_3 (Dense)              ?                         5130      \n",
            "=================================================================\n",
            "Total params: 669,706\n",
            "Trainable params: 669,706\n",
            "Non-trainable params: 0\n",
            "_________________________________________________________________\n"
          ],
          "name": "stdout"
        }
      ]
    },
    {
      "metadata": {
        "id": "CMajrImWbAvZ",
        "colab_type": "code",
        "colab": {
          "autoexec": {
            "startup": false,
            "wait_interval": 0
          }
        }
      },
      "cell_type": "code",
      "source": [
        "BATCH_SIZE = 128\n",
        "# BATCH_SIZE = 2\n",
        "SHUFFLE_SIZE = 1000\n",
        "\n",
        "train_dataset = tf.data.Dataset.from_tensor_slices((x_train, y_train)) \\\n",
        "          .shuffle(SHUFFLE_SIZE) \\\n",
        "          .batch(BATCH_SIZE)\n",
        "\n",
        "test_dataset = tf.data.Dataset.from_tensor_slices((x_test, y_test)) \\\n",
        "          .batch(BATCH_SIZE)\n",
        "\n",
        "# View a single example entry from a batch\n",
        "#features, labels = tfe.Iterator(test_dataset).next()\n",
        "#print(\"example feature:\", features[0])\n",
        "#print(\"example label:\", labels[0])\n"
      ],
      "execution_count": 0,
      "outputs": []
    },
    {
      "metadata": {
        "id": "VxmgSrb9118w",
        "colab_type": "code",
        "colab": {
          "autoexec": {
            "startup": false,
            "wait_interval": 0
          }
        }
      },
      "cell_type": "code",
      "source": [
        "def loss(model, x, y):\n",
        "  y_ = model(x)\n",
        "  return tf.losses.sparse_softmax_cross_entropy(labels=y, logits=y_)\n",
        "\n",
        "\n",
        "def grad(model, inputs, targets):\n",
        "  with tfe.GradientTape() as tape:\n",
        "    loss_value = loss(model, inputs, targets)\n",
        "  return tape.gradient(loss_value, model.variables)\n"
      ],
      "execution_count": 0,
      "outputs": []
    },
    {
      "metadata": {
        "id": "i1PcGU6n18zz",
        "colab_type": "code",
        "colab": {
          "autoexec": {
            "startup": false,
            "wait_interval": 0
          }
        }
      },
      "cell_type": "code",
      "source": [
        "optimizer = tf.train.AdamOptimizer()"
      ],
      "execution_count": 0,
      "outputs": []
    },
    {
      "metadata": {
        "id": "zNfMvIgK24qL",
        "colab_type": "code",
        "colab": {
          "autoexec": {
            "startup": false,
            "wait_interval": 0
          },
          "base_uri": "https://localhost:8080/",
          "height": 187
        },
        "outputId": "d1edcb3d-1d59-4508-ec54-661656eb262c",
        "executionInfo": {
          "status": "ok",
          "timestamp": 1524268882874,
          "user_tz": 420,
          "elapsed": 140379,
          "user": {
            "displayName": "Amy Unruh",
            "photoUrl": "//lh5.googleusercontent.com/-g6alynuJerk/AAAAAAAAAAI/AAAAAAAAEQw/57BL9vMdS30/s50-c-k-no/photo.jpg",
            "userId": "100978872515629229948"
          }
        }
      },
      "cell_type": "code",
      "source": [
        "## Note: Rerunning this cell uses the same model variables\n",
        "\n",
        "# keep results for plotting\n",
        "train_loss_results = []\n",
        "train_accuracy_results = []\n",
        "\n",
        "num_epochs = 10\n",
        "\n",
        "for epoch in range(num_epochs):\n",
        "  epoch_loss_avg = tfe.metrics.Mean()\n",
        "  epoch_accuracy = tfe.metrics.Accuracy()\n",
        "\n",
        "  # Training loop - using batches of BATCH_SIZE\n",
        "  for images, labels in tfe.Iterator(train_dataset):\n",
        "    # Optimize the model\n",
        "    grads = grad(model, images, labels)\n",
        "    optimizer.apply_gradients(zip(grads, model.variables),\n",
        "                              global_step=tf.train.get_or_create_global_step())\n",
        "\n",
        "    # Track progress\n",
        "    epoch_loss_avg(loss(model, images, labels))  # add current batch loss\n",
        "    # compare predicted label to actual label\n",
        "    epoch_accuracy(tf.argmax(model(images), axis=1, output_type=tf.int32), labels)\n",
        "\n",
        "  # end epoch\n",
        "  train_loss_results.append(epoch_loss_avg.result())\n",
        "  train_accuracy_results.append(epoch_accuracy.result())\n",
        "  \n",
        "#  if epoch % 50 == 0:\n",
        "  print(\"Epoch {:03d}: Loss: {:.3f}, Accuracy: {:.3%}\".format(epoch,\n",
        "                                                                epoch_loss_avg.result(),\n",
        "                                                                epoch_accuracy.result()))\n",
        "    \n",
        "    "
      ],
      "execution_count": 11,
      "outputs": [
        {
          "output_type": "stream",
          "text": [
            "Epoch 000: Loss: 0.442, Accuracy: 84.222%\n",
            "Epoch 001: Loss: 0.325, Accuracy: 88.082%\n",
            "Epoch 002: Loss: 0.289, Accuracy: 89.507%\n",
            "Epoch 003: Loss: 0.266, Accuracy: 90.145%\n",
            "Epoch 004: Loss: 0.247, Accuracy: 90.817%\n",
            "Epoch 005: Loss: 0.232, Accuracy: 91.285%\n",
            "Epoch 006: Loss: 0.217, Accuracy: 91.880%\n",
            "Epoch 007: Loss: 0.207, Accuracy: 92.220%\n",
            "Epoch 008: Loss: 0.196, Accuracy: 92.712%\n",
            "Epoch 009: Loss: 0.184, Accuracy: 93.113%\n"
          ],
          "name": "stdout"
        }
      ]
    },
    {
      "metadata": {
        "id": "bsULxWzUaziF",
        "colab_type": "code",
        "colab": {
          "autoexec": {
            "startup": false,
            "wait_interval": 0
          },
          "base_uri": "https://localhost:8080/",
          "height": 558
        },
        "outputId": "0b7e642a-6853-4292-aeb4-81975c814688",
        "executionInfo": {
          "status": "ok",
          "timestamp": 1524268968027,
          "user_tz": 420,
          "elapsed": 660,
          "user": {
            "displayName": "Amy Unruh",
            "photoUrl": "//lh5.googleusercontent.com/-g6alynuJerk/AAAAAAAAAAI/AAAAAAAAEQw/57BL9vMdS30/s50-c-k-no/photo.jpg",
            "userId": "100978872515629229948"
          }
        }
      },
      "cell_type": "code",
      "source": [
        "import matplotlib.pyplot as plt\n",
        "\n",
        "fig, axes = plt.subplots(2, sharex=True, figsize=(12, 8))\n",
        "fig.suptitle('Training Metrics')\n",
        "\n",
        "axes[0].set_ylabel(\"Loss\", fontsize=14)\n",
        "axes[0].plot(train_loss_results)\n",
        "\n",
        "axes[1].set_ylabel(\"Accuracy\", fontsize=14)\n",
        "axes[1].set_xlabel(\"Epoch\", fontsize=14)\n",
        "axes[1].plot(train_accuracy_results)\n",
        "\n",
        "plt.show()"
      ],
      "execution_count": 12,
      "outputs": [
        {
          "output_type": "display_data",
          "data": {
            "image/png": "[encoded data removed]",
            "text/plain": [
              "<matplotlib.figure.Figure at 0x7efd052c29b0>"
            ]
          },
          "metadata": {
            "tags": []
          }
        }
      ]
    },
    {
      "metadata": {
        "id": "KOW1QNKud8nh",
        "colab_type": "code",
        "colab": {
          "autoexec": {
            "startup": false,
            "wait_interval": 0
          },
          "base_uri": "https://localhost:8080/",
          "height": 34
        },
        "outputId": "7107ff56-7512-4126-edb1-772f0c2743c2",
        "executionInfo": {
          "status": "ok",
          "timestamp": 1524268970792,
          "user_tz": 420,
          "elapsed": 1036,
          "user": {
            "displayName": "Amy Unruh",
            "photoUrl": "//lh5.googleusercontent.com/-g6alynuJerk/AAAAAAAAAAI/AAAAAAAAEQw/57BL9vMdS30/s50-c-k-no/photo.jpg",
            "userId": "100978872515629229948"
          }
        }
      },
      "cell_type": "code",
      "source": [
        "test_accuracy = tfe.metrics.Accuracy()\n",
        "\n",
        "for (x, y) in tfe.Iterator(test_dataset):\n",
        "  prediction = tf.argmax(model(x), axis=1, output_type=tf.int32)\n",
        "  test_accuracy(prediction, y)\n",
        "\n",
        "print(\"Test set accuracy: {:.3%}\".format(test_accuracy.result()))"
      ],
      "execution_count": 13,
      "outputs": [
        {
          "output_type": "stream",
          "text": [
            "Test set accuracy: 88.660%\n"
          ],
          "name": "stdout"
        }
      ]
    },
    {
      "metadata": {
        "id": "tcAPS4vVe8Lg",
        "colab_type": "text"
      },
      "cell_type": "markdown",
      "source": [
        "<hr>\n",
        "Copyright 2018 Google Inc. All Rights Reserved.\n",
        "\n",
        "Licensed under the Apache License, Version 2.0 (the \"License\");\n",
        "you may not use this file except in compliance with the License.\n",
        "You may obtain a copy of the License at\n",
        "\n",
        " http://www.apache.org/licenses/LICENSE-2.0\n",
        "\n",
        "Unless required by applicable law or agreed to in writing, software\n",
        "distributed under the License is distributed on an \"AS IS\" BASIS,\n",
        "WITHOUT WARRANTIES OR CONDITIONS OF ANY KIND, either express or implied.\n",
        "See the License for the specific language governing permissions and\n",
        "limitations under the License."
      ]
    },
    {
      "metadata": {
        "id": "ruV-pM0Le9G7",
        "colab_type": "code",
        "colab": {
          "autoexec": {
            "startup": false,
            "wait_interval": 0
          }
        }
      },
      "cell_type": "code",
      "source": [
        ""
      ],
      "execution_count": 0,
      "outputs": []
    }
  ]
}