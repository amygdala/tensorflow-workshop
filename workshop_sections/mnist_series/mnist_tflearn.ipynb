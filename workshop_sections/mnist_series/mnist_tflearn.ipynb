{
 "cells": [
  {
   "cell_type": "markdown",
   "metadata": {},
   "source": [
    "Copyright 2016 Google Inc. All Rights Reserved.\n",
    "\n",
    "Licensed under the Apache License, Version 2.0 (the \"License\");\n",
    "you may not use this file except in compliance with the License.\n",
    "You may obtain a copy of the License at\n",
    "\n",
    "    http://www.apache.org/licenses/LICENSE-2.0\n",
    "Unless required by applicable law or agreed to in writing, software\n",
    "distributed under the License is distributed on an \"AS IS\" BASIS,\n",
    "WITHOUT WARRANTIES OR CONDITIONS OF ANY KIND, either express or implied.\n",
    "See the License for the specific language governing permissions and\n",
    "limitations under the License.\n",
    "\n",
    "--------------------------------------\n",
    "\n",
    "This notebook is similar in functionality to [this python script](https://github.com/amygdala/tensorflow-workshop/blob/master/workshop_sections/mnist_series/mnist_tflearn.py), and is used with [this README](https://github.com/amygdala/tensorflow-workshop/blob/master/workshop_sections/mnist_series/02_README_mnist_tflearn.md).  It shows how to use TensorFlow's high-level apis, in `contrib.tflearn`, to easily build a classifier with multiple hidden layers.\n",
    "\n",
    "First, do some imports and set some variables:"
   ]
  },
  {
   "cell_type": "code",
   "execution_count": null,
   "metadata": {
    "collapsed": false
   },
   "outputs": [],
   "source": [
    "from __future__ import absolute_import\n",
    "from __future__ import division\n",
    "from __future__ import print_function\n",
    "\n",
    "import argparse\n",
    "import os\n",
    "import time\n",
    "\n",
    "import numpy\n",
    "import tensorflow as tf\n",
    "from tensorflow.examples.tutorials.mnist import input_data\n",
    "\n",
    "DATA_DIR = \"/tmp/MNIST_data\"\n",
    "\n",
    "# read in data, downloading first as necessary\n",
    "DATA_SETS = input_data.read_data_sets(DATA_DIR)\n",
    "\n",
    "# comment out for less info during the training runs.\n",
    "tf.logging.set_verbosity(tf.logging.INFO)\n",
    "\n",
    "# define a utility function for generating a new directory in which to save \n",
    "# model information, so multiple training runs don't stomp on each other.\n",
    "def getNewPath(base=\"/tmp/tfmodels/mnist_tflearn\"):\n",
    "    logpath = os.path.join(base, str(int(time.time())))\n",
    "    print(\"Logging to {}\".format(logpath))\n",
    "    return logpath\n"
   ]
  },
  {
   "cell_type": "markdown",
   "metadata": {},
   "source": [
    "We'll first define a function that adds a LinearClassifier and runs its `fit()` method, which will train the model. Note that we didn't need to explicitly define a model graph or a training loop ourselves.  \n",
    "\n",
    "Once we've trained the model, we run the `evaluate()` method, which uses the trained model. To do this, it loads the most recent checkpointed model info available.  The model checkpoint(s) will be generated during the training process."
   ]
  },
  {
   "cell_type": "code",
   "execution_count": null,
   "metadata": {
    "collapsed": true
   },
   "outputs": [],
   "source": [
    "def define_and_run_linear_classifier(num_steps, logdir):\n",
    "    \"\"\"Run a linear classifier.\"\"\"\n",
    "    global DATA_SETS\n",
    "    feature_columns = tf.contrib.learn.infer_real_valued_columns_from_input(\n",
    "        DATA_SETS.train.images)\n",
    "    classifier = tf.contrib.learn.LinearClassifier(\n",
    "                feature_columns=feature_columns, \n",
    "                n_classes=10,\n",
    "               model_dir=logdir\n",
    "                )\n",
    "    classifier.fit(DATA_SETS.train.images,\n",
    "                   DATA_SETS.train.labels.astype(numpy.int64),\n",
    "                   batch_size=100, steps=num_steps\n",
    "                  )\n",
    "    print(\"Finished training.\")\n",
    "    # Evaluate accuracy.\n",
    "    accuracy_score = classifier.evaluate(\n",
    "        DATA_SETS.test.images,\n",
    "        DATA_SETS.test.labels.astype(numpy.int64))['accuracy']\n",
    "    print('Linear Classifier Accuracy: {0:f}'.format(accuracy_score))"
   ]
  },
  {
   "cell_type": "markdown",
   "metadata": {},
   "source": [
    "Next, add a function that defines a `DNNClassifier`, and runs its `fit()` method, which will train the model. Again note that we didn't need to explicitly define a model graph or a training loop ourselves.  \n",
    "\n",
    "Then after we've trained the model, we run the classifier's `evaluate()` method, which uses the trained model. "
   ]
  },
  {
   "cell_type": "code",
   "execution_count": null,
   "metadata": {
    "collapsed": true
   },
   "outputs": [],
   "source": [
    "def define_and_run_dnn_classifier(num_steps, logdir, lr=.1):\n",
    "    \"\"\"Run a DNN classifier.\"\"\"\n",
    "    feature_columns = tf.contrib.learn.infer_real_valued_columns_from_input(DATA_SETS.train.images)\n",
    "    classifier = tf.contrib.learn.DNNClassifier(\n",
    "        feature_columns=feature_columns, n_classes=10,\n",
    "        hidden_units=[128, 32],\n",
    "        # After you've done a training run with optimizer learning rate 0.1,\n",
    "        # change it to 0.5 and run the training again.  Use TensorBoard to take\n",
    "        # a look at the difference.  You can see both runs by pointing it to the\n",
    "        # parent model directory, which by default is:\n",
    "        #   tensorboard --logdir=/tmp/tfmodels/mnist_tflearn\n",
    "        optimizer=tf.train.ProximalAdagradOptimizer(learning_rate=lr),\n",
    "        model_dir=logdir\n",
    "        )\n",
    "    classifier.fit(DATA_SETS.train.images,\n",
    "                   DATA_SETS.train.labels.astype(numpy.int64),\n",
    "                   batch_size=100, max_steps=num_steps)\n",
    "    print(\"Finished running the training via the fit() method\")\n",
    "    \n",
    "    accuracy_score = classifier.evaluate(\n",
    "        DATA_SETS.test.images,\n",
    "        DATA_SETS.test.labels.astype(numpy.int64))['accuracy']\n",
    "    print('DNN Classifier Accuracy: {0:f}'.format(accuracy_score))"
   ]
  },
  {
   "cell_type": "markdown",
   "metadata": {},
   "source": [
    "Now we can call the functions that define and train our classifiers.  Let's start with the LinearClassifier, which won't be very accurate. \n"
   ]
  },
  {
   "cell_type": "code",
   "execution_count": null,
   "metadata": {
    "collapsed": false
   },
   "outputs": [],
   "source": [
    "print(\"Running Linear classifier ...\")\n",
    "define_and_run_linear_classifier(1000, getNewPath())"
   ]
  },
  {
   "cell_type": "markdown",
   "metadata": {},
   "source": [
    "Now, let's run the DNN Classifier.  First, let's try it with a .1 learning rate."
   ]
  },
  {
   "cell_type": "code",
   "execution_count": null,
   "metadata": {
    "collapsed": false
   },
   "outputs": [],
   "source": [
    "print(\"Running DNN classifier with .1 learning rate...\")\n",
    "classifier = define_and_run_dnn_classifier(5000, getNewPath(), lr=.1)"
   ]
  },
  {
   "cell_type": "markdown",
   "metadata": {},
   "source": [
    "Now, let's run it with a .5 learning rate."
   ]
  },
  {
   "cell_type": "code",
   "execution_count": null,
   "metadata": {
    "collapsed": false
   },
   "outputs": [],
   "source": [
    "print(\"Running DNN classifier with .5 learning rate...\")\n",
    "classifier = define_and_run_dnn_classifier(5000, getNewPath(), lr=.5)"
   ]
  },
  {
   "cell_type": "markdown",
   "metadata": {},
   "source": [
    "To compare your results, start up TensorBoard as follows in a new terminal window. (If you get a 'not found' error, make sure you've activated your virtual environment in that new window):\n",
    "\n",
    "```sh\n",
    "$ tensorboard --logdir=/tmp/tfmodels/mnist_tflearn\n",
    "```"
   ]
  }
 ],
 "metadata": {

 },
 "nbformat": 4,
 "nbformat_minor": 1
}
